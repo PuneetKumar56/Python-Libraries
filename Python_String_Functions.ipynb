{
 "cells": [
  {
   "cell_type": "markdown",
   "id": "4ce80067-e66b-4845-9e81-25dffb7f9283",
   "metadata": {},
   "source": [
    "# All Python String Functions "
   ]
  },
  {
   "cell_type": "code",
   "execution_count": 4,
   "id": "161c922f-a1b3-411d-85c6-632ca2837273",
   "metadata": {},
   "outputs": [
    {
     "name": "stdout",
     "output_type": "stream",
     "text": [
      "Kfj efe hblo lj eh\n"
     ]
    }
   ],
   "source": [
    "# 1. capitalize()\tConverts only first character to uppercase and remaing characters to lowercase\n",
    "# str = '''hello, My name is John. and I want to learn Python.\n",
    "#             and become a Software Engineer.'''\n",
    "str1 = input(\"enter your name \")\n",
    "print(str1.capitalize())"
   ]
  },
  {
   "cell_type": "code",
   "execution_count": null,
   "id": "4f5950d6-bde4-4139-8444-6f31d2209399",
   "metadata": {},
   "outputs": [
    {
     "name": "stdout",
     "output_type": "stream",
     "text": [
      "hello, my name is john. and i want to learn python.\n",
      "            and become a software engineer.\n"
     ]
    }
   ],
   "source": [
    "# 2. casefold()\tConverts string to lowercase (stronger than lower() because the lower has a limit range i.e english letters to convert lowerCase)\n",
    "str = '''Hello, My name is John. And I want to learn Python.\n",
    "            And become a software engineer.'''\n",
    "print(str.casefold())"
   ]
  },
  {
   "cell_type": "code",
   "execution_count": 5,
   "id": "51040db2-3727-4775-930a-f0b8a6b06267",
   "metadata": {},
   "outputs": [
    {
     "name": "stdout",
     "output_type": "stream",
     "text": [
      "       Python       \n"
     ]
    }
   ],
   "source": [
    "# 3. center(width)\tReturns a centered string\n",
    "str = 'Python'\n",
    "# print(str.center(20))\n",
    "print(str.center(20))"
   ]
  },
  {
   "cell_type": "code",
   "execution_count": 6,
   "id": "f6d04bcd-0a8e-4eda-baf6-0929ba0c6600",
   "metadata": {},
   "outputs": [
    {
     "data": {
      "text/plain": [
       "2"
      ]
     },
     "execution_count": 6,
     "metadata": {},
     "output_type": "execute_result"
    }
   ],
   "source": [
    "# 4. count(sub)\tReturns the number of times a substring occurs\n",
    "str = '''Python is Awesome. I want to learn python.\n",
    "            Python is used for in Ai, ML, web development '''\n",
    "str.count('Python')"
   ]
  },
  {
   "cell_type": "code",
   "execution_count": 7,
   "id": "7b09d6c1-bd62-4a3e-bb2b-1dd915b819e5",
   "metadata": {},
   "outputs": [
    {
     "name": "stdout",
     "output_type": "stream",
     "text": [
      "b'I want to become \\xe0\\xa4\\x96 data analyst'\n"
     ]
    }
   ],
   "source": [
    "# 5. encode()\tReturns an encoded version of the string\n",
    "# for i in range(200,300): # for printing some characters\n",
    "#     print(chr(i),end = \" \")\n",
    "# str = '''I want to become à data analyst''' # b before string means it is in byte format\n",
    "str1 = '''I want to become ख data analyst'''\n",
    "print(str1.encode(encoding= 'utf-8',errors= 'strict')) "
   ]
  },
  {
   "cell_type": "code",
   "execution_count": 8,
   "id": "62a32146-ffac-4c76-93d8-e3ea1a1a81e2",
   "metadata": {},
   "outputs": [
    {
     "name": "stdout",
     "output_type": "stream",
     "text": [
      "False\n"
     ]
    }
   ],
   "source": [
    "# 6. endswith(suffix)\tReturns True if the string ends with the specified value\n",
    "str = '''Python is Awesome. I want to learn python.'''\n",
    "print(str.endswith('awesome.',0,18))\n",
    "# print(str[:18])"
   ]
  },
  {
   "cell_type": "code",
   "execution_count": 9,
   "id": "1cb94f90-f1cb-43ec-a27e-ca03d63ab49b",
   "metadata": {},
   "outputs": [
    {
     "name": "stdout",
     "output_type": "stream",
     "text": [
      "True\n"
     ]
    }
   ],
   "source": [
    "# startswith(prefix)\tReturns True if string starts with the given prefix\n",
    "str = '''Python is Awesome. I want to learn python.'''\n",
    "print(str.startswith('Awesome',10,18))\n",
    "# print(str[10:18])"
   ]
  },
  {
   "cell_type": "code",
   "execution_count": null,
   "id": "7c1db1d1-2993-4bff-8f8c-d12cdb412dc9",
   "metadata": {},
   "outputs": [],
   "source": [
    "# 7. expandtabs(tabsize)\tReplaces tab characters with spaces\n",
    "str = '''Python is\\tAwesome. I want to learn python.'''\n",
    "print(str.expandtabs(8))"
   ]
  },
  {
   "cell_type": "code",
   "execution_count": 11,
   "id": "80603b99-fb48-4096-b283-09833b3345a7",
   "metadata": {},
   "outputs": [
    {
     "data": {
      "text/plain": [
       "21"
      ]
     },
     "execution_count": 11,
     "metadata": {},
     "output_type": "execute_result"
    }
   ],
   "source": [
    "# 8. find(sub)\tReturns the index of the first occurrence of a substring (returns -1 if not found)\n",
    "str = '''Python Is Awesome. I want to learn Python.'''\n",
    "x = str.find('want',10,len(str))\n",
    "x"
   ]
  },
  {
   "cell_type": "code",
   "execution_count": 12,
   "id": "a792534d-6d88-4f4b-a282-75cf019c7f86",
   "metadata": {},
   "outputs": [
    {
     "name": "stdout",
     "output_type": "stream",
     "text": [
      "John buy 1 books, -2 copies, N pens from Stationary\n"
     ]
    }
   ],
   "source": [
    "# 9. format()\tFormats specified values in a string\n",
    "str = '''John buy {0} books, {1:} copies, {2:c} pens from Stationary'''\n",
    "print(str.format(1,-2,78))\n",
    "# str1 = 'My name is {name}. i love play {game}'.format(name = 'john', game = 'footwall')\n",
    "# print(str1)"
   ]
  },
  {
   "cell_type": "code",
   "execution_count": 13,
   "id": "c62e18ea-a7d0-48e4-980d-a73bf63e7521",
   "metadata": {},
   "outputs": [
    {
     "name": "stdout",
     "output_type": "stream",
     "text": [
      "My name is John. I love play swimming\n"
     ]
    }
   ],
   "source": [
    "# 10. format_map(mapping)\tSimilar to format(), but uses a dictionary\n",
    "str = 'My name is {name}. I love play {game}'\n",
    "data = {'name':'John', 'game':'swimming'}\n",
    "print(str.format_map(data))"
   ]
  },
  {
   "cell_type": "code",
   "execution_count": null,
   "id": "5d9e9270-f282-4e1a-b980-694d233d55b2",
   "metadata": {},
   "outputs": [],
   "source": [
    "# 11. index(sub)\tLike find(), but raises an error if not found\n",
    "str = '''Python Is Awesome. I want to learn Python.'''\n",
    "x = str.index('Python',10,len(str))\n",
    "x"
   ]
  },
  {
   "cell_type": "code",
   "execution_count": 14,
   "id": "2e0a443c-f58e-431d-bf3d-aa04413a37e6",
   "metadata": {},
   "outputs": [
    {
     "data": {
      "text/plain": [
       "False"
      ]
     },
     "execution_count": 14,
     "metadata": {},
     "output_type": "execute_result"
    }
   ],
   "source": [
    "# 12. isalnum()\tReturns True if all characters are alphanumeric\n",
    "str = '37byjfhg35/'\n",
    "x = str.isalnum()\n",
    "x"
   ]
  },
  {
   "cell_type": "code",
   "execution_count": null,
   "id": "9ba15f71-5f5d-4d7d-976e-327889437242",
   "metadata": {},
   "outputs": [],
   "source": [
    "# 13. isalpha()\tReturns True if all characters are alphabetic\n",
    "str = 'john'\n",
    "x = str.isalpha()\n",
    "x"
   ]
  },
  {
   "cell_type": "code",
   "execution_count": 17,
   "id": "ce352920-4ad2-43fa-bfbe-8b8c62dc2439",
   "metadata": {},
   "outputs": [
    {
     "name": "stdout",
     "output_type": "stream",
     "text": [
      "True\n"
     ]
    }
   ],
   "source": [
    "# 14.  isascii() Returns True if all characters are ASCII (American standard code for information interchange) range of ascii is 0-127\n",
    "Str = '37byjfhg35/ `@#$%^&*()_+<>?:\"{}|,.\"'\n",
    "print(Str.isascii())"
   ]
  },
  {
   "cell_type": "code",
   "execution_count": 18,
   "id": "540d8a4f-4d1e-47d0-a392-2a91ec0d1f40",
   "metadata": {},
   "outputs": [
    {
     "name": "stdout",
     "output_type": "stream",
     "text": [
      "True\n"
     ]
    }
   ],
   "source": [
    "# 15 isdecimal() Returns True if all characters are decimals, devnagri  ० १ २ ३ ४ ५ ६ ७ ८ ९ but not support superscript and subscript,\n",
    "                                # not include fraction, roman Numerals also\n",
    "Str = '345786०२३४' \n",
    "print(Str.isdecimal())"
   ]
  },
  {
   "cell_type": "code",
   "execution_count": null,
   "id": "517c9468-5779-468e-a2b3-735bc80116b1",
   "metadata": {},
   "outputs": [],
   "source": [
    "for i in range(2325,2362): # devnagri part of unicode . that is unicode decimal range is 2304 - 2431\n",
    "    print(chr(i),end = \" \")\n",
    "print(chr(178),end = \" \") # unicode for ² superscript and \n",
    "print(chr(8322),end = \" \") # unicode for ₂ subscript"
   ]
  },
  {
   "cell_type": "code",
   "execution_count": 20,
   "id": "fd38055b-f628-4f51-9653-0d829277e130",
   "metadata": {},
   "outputs": [
    {
     "name": "stdout",
     "output_type": "stream",
     "text": [
      "True\n",
      "False\n"
     ]
    }
   ],
   "source": [
    "# 16 isdigit()\tReturns True if all characters are digits, devnagri  ० १ २ ३ ४ ५ ६ ७ ८ ९ ,also support superscript and subscript\n",
    "# Str = '345786०२३४²' \n",
    "print(Str.isdigit())\n",
    "print(\"VII\".isnumeric())"
   ]
  },
  {
   "cell_type": "code",
   "execution_count": null,
   "id": "fb1dbba1-37a8-4c8c-9928-c4a8288f2aa2",
   "metadata": {},
   "outputs": [],
   "source": [
    "# 19. isnumeric()\tReturns True if all characters are numeric, devnagri  ० १ २ ३ ४ ५ ६ ७ ८ ९ ,also support superscript and subscript,                      \n",
    "# num = '36465'\n",
    "# print(num.isnumeric())"
   ]
  },
  {
   "cell_type": "code",
   "execution_count": 21,
   "id": "5f8d14ec-253f-4db1-97d2-f81b308ef163",
   "metadata": {},
   "outputs": [
    {
     "name": "stdout",
     "output_type": "stream",
     "text": [
      "True\n",
      "True\n"
     ]
    }
   ],
   "source": [
    "# 17 isidentifier()\tReturns True if the string is a valid identifier\n",
    "Str = 'yfjg_12' \n",
    "print(Str.isidentifier())\n",
    "import keyword \n",
    "s = 'else'\n",
    "print(keyword.iskeyword(s))"
   ]
  },
  {
   "cell_type": "code",
   "execution_count": null,
   "id": "a311cd77-17e8-42df-8b81-b213809b976d",
   "metadata": {},
   "outputs": [],
   "source": [
    "# 18. islower()\tReturns True if all characters are lowercase\n",
    "str = 'i\"m john. i live in india'\n",
    "print(str.islower())"
   ]
  },
  {
   "cell_type": "code",
   "execution_count": null,
   "id": "2fa07f3c-b257-4b8c-801d-598345f60797",
   "metadata": {},
   "outputs": [],
   "source": [
    "# 20 isprintable()\tReturns True if all characters are printable and return false in case \\n,\\t,\\r,\\b,\\x07(bell character), range of 0-31 & 127 ascii value\n",
    "str = 'john Rajput' # True\n",
    "str = '' # True\n",
    "str = 'john\\x07Rajput'\n",
    "str = 'john\\nrajput'\n",
    "print(str.isprintable())"
   ]
  },
  {
   "cell_type": "code",
   "execution_count": null,
   "id": "20843eb0-3f92-48d8-8160-511b18089ede",
   "metadata": {},
   "outputs": [],
   "source": [
    "# 21. isspace()\tReturns True if the string contains only whitespace\n",
    "str = ' \\t'\n",
    "print(str.isspace())"
   ]
  },
  {
   "cell_type": "code",
   "execution_count": null,
   "id": "34e7a305-c531-426c-925c-f6ae6c8aa07d",
   "metadata": {},
   "outputs": [
    {
     "name": "stdout",
     "output_type": "stream",
     "text": [
      "Python Is Awesome. I Want To Learn Python. And Become A Data Engineer\n"
     ]
    }
   ],
   "source": [
    "# 22 istitle()\tReturns True if the string follows title case \n",
    "str = 'python Is Awesome. i want to learn Python. and become a data engineer'\n",
    "titled_str = str.title() # return each word is titlecased.\n",
    "print(titled_str)\n",
    "print(titled_str.istitle())"
   ]
  },
  {
   "cell_type": "code",
   "execution_count": null,
   "id": "7b6c81cc-a28a-45b0-9639-c2664d6e2f2f",
   "metadata": {},
   "outputs": [],
   "source": [
    "# 23 isupper()\tReturns True if all characters are uppercase\n",
    "str = 'python Is Awesome. i want to learn Python. and become a data engineer'\n",
    "upper_str = str.upper()\n",
    "print(upper_str.isupper())"
   ]
  },
  {
   "cell_type": "code",
   "execution_count": 25,
   "id": "74990097-a552-4745-a334-879c47d280d5",
   "metadata": {},
   "outputs": [
    {
     "name": "stdout",
     "output_type": "stream",
     "text": [
      "Apple, Banana, Grapes, Mango, Orange\n"
     ]
    },
    {
     "data": {
      "text/plain": [
       "str"
      ]
     },
     "execution_count": 25,
     "metadata": {},
     "output_type": "execute_result"
    }
   ],
   "source": [
    "# 24. join(iterable)\tJoins elements of an iterable with the string as separator\n",
    "List = ['Apple','Banana','Grapes','Mango','Orange']\n",
    "x = '-'.join(List)\n",
    "x = ', '.join(List)\n",
    "print(x)\n",
    "type(x)"
   ]
  },
  {
   "cell_type": "code",
   "execution_count": 26,
   "id": "aa56d5b8-3992-4509-9f99-4300daf1ad25",
   "metadata": {},
   "outputs": [
    {
     "data": {
      "text/plain": [
       "'john********'"
      ]
     },
     "execution_count": 26,
     "metadata": {},
     "output_type": "execute_result"
    }
   ],
   "source": [
    "# 25.  ljust(width)\tReturns a left-justified string\n",
    "str = 'john'\n",
    "x = str.ljust(12,'*')\n",
    "x"
   ]
  },
  {
   "cell_type": "code",
   "execution_count": 27,
   "id": "6ff6da4c-2175-4bb5-afb9-b65d627c81c7",
   "metadata": {},
   "outputs": [
    {
     "data": {
      "text/plain": [
       "'********john'"
      ]
     },
     "execution_count": 27,
     "metadata": {},
     "output_type": "execute_result"
    }
   ],
   "source": [
    "# 26.  rjust(width)\tReturns a right-justified string\n",
    "str = 'john'\n",
    "x = str.rjust(12,'*')\n",
    "x"
   ]
  },
  {
   "cell_type": "code",
   "execution_count": 29,
   "id": "816c0515-d6c4-48af-9631-535a0233ade7",
   "metadata": {},
   "outputs": [
    {
     "name": "stdout",
     "output_type": "stream",
     "text": [
      "Amit Kuma, Monu thaMu, anjali thaMu, aMhi Mamai, ahul Muma, ajesh shama, vinay thaMu\n"
     ]
    }
   ],
   "source": [
    "# 27. maketrans() Returns a translation table to be used in translate() character to character change\n",
    "Str = 'Amit Kumar, Monu thakur, anjali thakur, rakhi kamari, rahul kumar, rajesh sharma, vinay thakur'\n",
    "# translation_table = str.maketrans('kumar','yadav')\n",
    "translation_table = str.maketrans('k','M','r')# the third parameter in mapping table describes characters that you want to remove the string\n",
    "print(Str.translate(translation_table))"
   ]
  },
  {
   "cell_type": "code",
   "execution_count": 33,
   "id": "31b3c5f1-c8dd-4cea-9bc7-269ff1d7fc19",
   "metadata": {},
   "outputs": [
    {
     "name": "stdout",
     "output_type": "stream",
     "text": [
      "('hello john, how are you', '', '')\n"
     ]
    }
   ],
   "source": [
    "# 28. partition(sep)\tSplits the string into 3 parts: before, separator, after\n",
    "str = 'hello john, how are you'\n",
    "# x = str.partition(',') # if empty str is giving as parameter it throw error and if not found the parameter in str and \n",
    "x = str.partition('who')\n",
    "print(x) #if separator is not found return whole string in first part and other next two part is empty"
   ]
  },
  {
   "cell_type": "code",
   "execution_count": null,
   "id": "5570ace5-b94c-4433-95f9-4d50219c61de",
   "metadata": {},
   "outputs": [],
   "source": [
    "# 29.  replace(old, new)\tReplaces all occurrences of a substring\n",
    "str = 'hello john, how are you john'\n",
    "x = str.replace('john','bara') # default count is -1\n",
    "x = str.replace('john','bara',count = 1) # here count is 1 so only one occurance is replaced\n",
    "print(x)"
   ]
  },
  {
   "cell_type": "code",
   "execution_count": null,
   "id": "cd90cefe-8d21-43ed-bb1c-9ed27178587c",
   "metadata": {},
   "outputs": [
    {
     "data": {
      "text/plain": [
       "6"
      ]
     },
     "execution_count": 35,
     "metadata": {},
     "output_type": "execute_result"
    }
   ],
   "source": [
    "# 30.  rfind(sub)\tFinds the last occurrence of a substring (return -1 if not found)\n",
    "str = 'hello john, how are you john'\n",
    "x = str.rfind('john')# 24 # start find from last\n",
    "x = str.rfind('john',0,10) # 6\n",
    "x"
   ]
  },
  {
   "cell_type": "code",
   "execution_count": null,
   "id": "477dbcc4-45aa-473f-801d-db62cab8322a",
   "metadata": {},
   "outputs": [],
   "source": [
    "# 31. rindex(sub)\tReturns the last index of the substring (error if not found)\n",
    "str = 'hello john, how are you john'\n",
    "x = str.rindex('john')# 24 # start find from last\n",
    "x = str.rindex('john',0,10) # 6\n",
    "x"
   ]
  },
  {
   "cell_type": "code",
   "execution_count": 39,
   "id": "054d33d0-30f4-4f9a-bf93-d137c4da485f",
   "metadata": {},
   "outputs": [
    {
     "name": "stdout",
     "output_type": "stream",
     "text": [
      "('hello john, ', 'how', ' are you')\n",
      "('hello john, ', 'how', ' are you')\n",
      "('', '', 'hello john, how are you')\n"
     ]
    }
   ],
   "source": [
    "# 32. rpartition(sep)\tLike partition(), but starts from the right\n",
    "str = 'hello john, how are you'\n",
    "print(str.rpartition('how'))\n",
    "print(str.partition('how'))\n",
    "print(str.rpartition('ram')) #if separator not found return whole string in third part and other first two part is empty"
   ]
  },
  {
   "cell_type": "code",
   "execution_count": 40,
   "id": "627d4fd0-2dd9-4c49-9b52-9cf00a3f2e57",
   "metadata": {},
   "outputs": [
    {
     "name": "stdout",
     "output_type": "stream",
     "text": [
      "['hello', 'john,', 'how', 'are', 'you']\n",
      "['hello', 'john,', 'how are you']\n",
      "['hello', 'john,', 'how', 'are', 'you']\n",
      "['hello john, how', 'are', 'you']\n"
     ]
    }
   ],
   "source": [
    "# 33. split(sep)\tSplits the string by a separator\n",
    "str = 'hello john, how are you'\n",
    "print(str.split(\" \"))\n",
    "print(str.split(\" \",maxsplit = 2))\n",
    "\n",
    "# 34. rsplit(sep)\tSplits the string from the right\n",
    "print(str.rsplit(\" \"))\n",
    "print(str.rsplit(\" \", maxsplit=2))"
   ]
  },
  {
   "cell_type": "code",
   "execution_count": 41,
   "id": "1e478b84-9f9a-42bd-9ee4-8a6b08295caf",
   "metadata": {},
   "outputs": [
    {
     "name": "stdout",
     "output_type": "stream",
     "text": [
      "['hello john, how are you ', 'can you help me By giving ', '100 rupees or more']\n"
     ]
    }
   ],
   "source": [
    "# 35. splitlines()\tSplits at line breaks\n",
    "str = '''hello john, how are you \\ncan you help me By giving \\n100 rupees or more'''\n",
    "print(str.splitlines())"
   ]
  },
  {
   "cell_type": "code",
   "execution_count": 42,
   "id": "de0cfd7e-55bc-449c-b597-070c1676e86b",
   "metadata": {},
   "outputs": [
    {
     "name": "stdout",
     "output_type": "stream",
     "text": [
      "john john\n",
      "equal\n",
      "6\n",
      "4\n"
     ]
    }
   ],
   "source": [
    "# strip()\tRemoves both leading and trailing whitespaces\n",
    "name = '  john'.strip()\n",
    "OthName = 'john  '.strip()\n",
    "print(name,OthName)\n",
    "if name == OthName:\n",
    "    print('equal')\n",
    "else:\n",
    "    print('not equal')\n",
    "\n",
    "name = ' john ' \n",
    "print(len(name))\n",
    "name = name.strip()\n",
    "print(len(name))"
   ]
  },
  {
   "cell_type": "code",
   "execution_count": 43,
   "id": "412cf6f4-aa04-4c03-8539-05d9fe081b2d",
   "metadata": {},
   "outputs": [
    {
     "name": "stdout",
     "output_type": "stream",
     "text": [
      "7 5 6 5 "
     ]
    }
   ],
   "source": [
    "# rstrip()\tRemoves trailing whitespaces from right side\n",
    "name = ' john  '  \n",
    "print(len(name),end= ' ')\n",
    "name = name.rstrip()\n",
    "print(len(name),end= ' ')\n",
    "\n",
    "# lstrip()\tRemoves trailing whitespaces from left side\n",
    "name = ' john ' \n",
    "print(len(name),end= ' ')\n",
    "name = name.lstrip()\n",
    "print(len(name),end= ' ')"
   ]
  },
  {
   "cell_type": "code",
   "execution_count": null,
   "id": "405cc6c2-fdfb-4e9f-a98b-a4caa2be9a84",
   "metadata": {},
   "outputs": [],
   "source": [
    "# swapcase()\tSwaps lowercase to uppercase and vice versa\n",
    "str = '''Hello John, How are YOU'''\n",
    "print(str.swapcase())"
   ]
  },
  {
   "cell_type": "code",
   "execution_count": null,
   "id": "46d87411-0aa1-4caf-9187-ec61d0e346c3",
   "metadata": {},
   "outputs": [],
   "source": [
    "# title()\tConverts the first character of each word to uppercase\n",
    "str = '''hello john, HOW are you'''\n",
    "print(str.title())"
   ]
  },
  {
   "cell_type": "code",
   "execution_count": 44,
   "id": "8af80e9b-ec2d-4c33-bb82-1e64b5be2183",
   "metadata": {},
   "outputs": [
    {
     "name": "stdout",
     "output_type": "stream",
     "text": [
      "kello jokn, HOW re you\n"
     ]
    }
   ],
   "source": [
    "# translate(table)\tTranslates characters using a translation table\n",
    "Str = '''hello john, HOW are you'''\n",
    "transi_table = str.maketrans('h','k','a')\n",
    "print(Str.translate(transi_table))"
   ]
  },
  {
   "cell_type": "code",
   "execution_count": 45,
   "id": "7ce69f1c-af8e-4189-9396-d6af9cd1d654",
   "metadata": {},
   "outputs": [
    {
     "name": "stdout",
     "output_type": "stream",
     "text": [
      "00abc\n"
     ]
    }
   ],
   "source": [
    "# zfill(width)\tPads the string with zeros on the left\n",
    "num = 'abc'\n",
    "print(num.zfill(5))"
   ]
  },
  {
   "cell_type": "code",
   "execution_count": null,
   "id": "988ba906-10a5-4134-9073-7f8cf55660fd",
   "metadata": {},
   "outputs": [
    {
     "data": {
      "text/plain": [
       "[4, 4, 6, 2, 4, 8, 2, 6, 6, 2]"
      ]
     },
     "execution_count": 66,
     "metadata": {},
     "output_type": "execute_result"
    }
   ],
   "source": [
    "\n",
    "choice = input('enter your choice')"
   ]
  },
  {
   "cell_type": "code",
   "execution_count": null,
   "id": "4b9eee77",
   "metadata": {},
   "outputs": [],
   "source": []
  },
  {
   "cell_type": "code",
   "execution_count": null,
   "id": "7a8f408f",
   "metadata": {},
   "outputs": [],
   "source": []
  }
 ],
 "metadata": {
  "kernelspec": {
   "display_name": "python3_env",
   "language": "python",
   "name": "python3"
  },
  "language_info": {
   "codemirror_mode": {
    "name": "ipython",
    "version": 3
   },
   "file_extension": ".py",
   "mimetype": "text/x-python",
   "name": "python",
   "nbconvert_exporter": "python",
   "pygments_lexer": "ipython3",
   "version": "3.12.9"
  }
 },
 "nbformat": 4,
 "nbformat_minor": 5
}
